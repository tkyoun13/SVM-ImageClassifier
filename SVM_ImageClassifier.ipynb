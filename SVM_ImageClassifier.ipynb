{
 "cells": [
  {
   "cell_type": "code",
   "execution_count": 2,
   "id": "e126c474",
   "metadata": {},
   "outputs": [],
   "source": [
    "import numpy as np\n",
    "import pandas as pd\n",
    "from sklearn.decomposition import PCA\n",
    "from sklearn.svm import SVC\n",
    "from sklearn.metrics import accuracy_score\n",
    "import optuna\n",
    "from sklearn.model_selection import cross_val_score\n",
    "from sklearn.preprocessing import MinMaxScaler\n",
    "from keras.preprocessing.image import ImageDataGenerator\n",
    "import matplotlib.pyplot as plt\n",
    "from sklearn.metrics import confusion_matrix\n",
    "import seaborn as sns\n",
    "from skimage import feature as ft\n",
    "from sklearn.pipeline import Pipeline"
   ]
  },
  {
   "cell_type": "code",
   "execution_count": 12,
   "id": "2808f586",
   "metadata": {},
   "outputs": [],
   "source": [
    "#데이터 로드\n",
    "train = pd.read_csv('fashion-mnist_train.csv') \n",
    "test = pd.read_csv('fashion-mnist_test.csv')\n",
    "private = pd.read_csv('private_data.csv') # private data : leader board\n"
   ]
  },
  {
   "cell_type": "code",
   "execution_count": 13,
   "id": "d12a2012",
   "metadata": {},
   "outputs": [],
   "source": [
    "# Min-Max 정규화 객체 생성\n",
    "scaler = MinMaxScaler(feature_range=(-1, 1))\n",
    "\n",
    "# train 데이터 정규화\n",
    "train_val = scaler.fit_transform(train.drop(['label'], axis=1).astype('float32'))\n",
    "\n",
    "# test 데이터 정규화\n",
    "test_val = scaler.transform(test.drop(['label'], axis=1).astype('float32'))\n",
    "\n",
    "# private 데이터 정규화\n",
    "private_val = scaler.transform(private.astype('float32'))\n",
    "\n",
    "# train_val = train.drop(['label'], axis=1).astype('float32') / 900.0\n",
    "train_label = train['label']\n",
    "# test_val = test.drop(['label'], axis=1).astype('float32') / 900.0\n",
    "test_label = test['label']\n",
    "# private_val = private.astype('float32') / 900.0\n",
    "\n",
    "\n",
    "\n",
    "\n",
    "\n",
    "\n"
   ]
  },
  {
   "cell_type": "code",
   "execution_count": 14,
   "id": "1ebf2749",
   "metadata": {},
   "outputs": [],
   "source": [
    "# 데이터 증강을 위한 함수\n",
    "def augment_data(dataset, labels, augment_size=5000):\n",
    "    datagen = ImageDataGenerator(\n",
    "        rotation_range=10,\n",
    "        width_shift_range=0.1,\n",
    "        height_shift_range=0.1,\n",
    "        shear_range=0.1,\n",
    "        zoom_range=0.1,\n",
    "        horizontal_flip=True,\n",
    "        fill_mode='nearest'\n",
    "    )\n",
    "\n",
    "    augmented_data = []\n",
    "    augmented_labels = []\n",
    "\n",
    "    for X, y in datagen.flow(dataset.reshape(-1, 28, 28, 1), labels, batch_size=augment_size, shuffle=False):\n",
    "        augmented_data.extend(X.reshape(-1, 784))\n",
    "        augmented_labels.extend(y)\n",
    "        if len(augmented_data) >= augment_size:\n",
    "            break\n",
    "\n",
    "    return np.array(augmented_data), np.array(augmented_labels)\n",
    "\n",
    "# 데이터 증강 적용\n",
    "augmented_train_val, augmented_train_label = augment_data(train_val, train_label, augment_size=5000)\n",
    "\n",
    "# 증강된 데이터와 원본 데이터 결합\n",
    "train_val_combined = np.concatenate((train_val, augmented_train_val), axis=0)\n",
    "train_label_combined = np.concatenate((train_label, augmented_train_label), axis=0)\n"
   ]
  },
  {
   "cell_type": "code",
   "execution_count": 16,
   "id": "50a49913",
   "metadata": {},
   "outputs": [],
   "source": [
    "train_val_1 = train_val_combined.reshape((-1, 28, 28))\n",
    "test_val = test_val.reshape((-1, 28, 28))\n",
    "private_val = private_val.reshape((-1, 28, 28))"
   ]
  },
  {
   "cell_type": "code",
   "execution_count": 17,
   "id": "a147ad61",
   "metadata": {},
   "outputs": [],
   "source": [
    "def HOG_val(val):\n",
    "    features = ft.hog(val, orientations=9, pixels_per_cell=(4, 4),\n",
    "                      cells_per_block=(2, 2), block_norm=\"L2\")\n",
    "    return features"
   ]
  },
  {
   "cell_type": "code",
   "execution_count": 19,
   "id": "f7e9dc68",
   "metadata": {},
   "outputs": [
    {
     "name": "stdout",
     "output_type": "stream",
     "text": [
      "HOG: 100.0%\n",
      "HOG: 100.0%\n",
      "HOG: 100.0%\n"
     ]
    }
   ],
   "source": [
    "train_HOG_val = []\n",
    "for index, val in enumerate(train_val_1):\n",
    "    print('\\rHOG: ' + str(round((index+1)/len(train_val_1)*100, 1)) + '%', end='')\n",
    "    train_HOG_val.append(HOG_val(val))\n",
    "print('')\n",
    "\n",
    "test_HOG_val = []\n",
    "for index, val in enumerate(test_val):\n",
    "    print('\\rHOG: ' + str(round((index+1)/len(test_val)*100, 1)) + '%', end='')\n",
    "    test_HOG_val.append(HOG_val(val))\n",
    "print('')\n",
    "\n",
    "private_HOG_val = []\n",
    "for index, val in enumerate(private_val):\n",
    "    print('\\rHOG: ' + str(round((index+1)/len(private_val)*100, 1)) + '%', end='')\n",
    "    private_HOG_val.append(HOG_val(val))\n",
    "print('')\n",
    "\n"
   ]
  },
  {
   "cell_type": "code",
   "execution_count": 20,
   "id": "808f5715",
   "metadata": {},
   "outputs": [
    {
     "name": "stdout",
     "output_type": "stream",
     "text": [
      "359\n"
     ]
    }
   ],
   "source": [
    "pca = PCA(n_components=784) # n_components -> 특징벡터 개수 설정 : 변경가능\n",
    "train_val_pca =pca.fit_transform(train_HOG_val)\n",
    "cumsum = np.cumsum(pca.explained_variance_ratio_)\n",
    "d = np.argmax(cumsum>=0.95) +1\n",
    "print(d)"
   ]
  },
  {
   "cell_type": "code",
   "execution_count": 21,
   "id": "ebdb8c4a",
   "metadata": {},
   "outputs": [
    {
     "name": "stdout",
     "output_type": "stream",
     "text": [
      "(65000, 359) , (10000, 359)\n"
     ]
    }
   ],
   "source": [
    "# Dimensionality Reduction using PCA : 차원축소\n",
    "pca = PCA(n_components=d, random_state=42) # n_components -> 특징벡터 개수 설정 : 변경가능\n",
    "train_val_pca =pca.fit_transform(train_HOG_val)\n",
    "test_val_pca = pca.transform(test_HOG_val)\n",
    "private_val_pca = pca.transform(private_HOG_val)\n",
    "print(\"{} , {}\".format(train_val_pca.shape, test_val_pca.shape))"
   ]
  },
  {
   "cell_type": "code",
   "execution_count": 22,
   "id": "17eb3687",
   "metadata": {},
   "outputs": [
    {
     "name": "stderr",
     "output_type": "stream",
     "text": [
      "[I 2023-12-01 05:19:50,828] A new study created in memory with name: no-name-6a17afc1-bcb9-4725-91bd-e83026486837\n"
     ]
    }
   ],
   "source": [
    "# Optuna를 사용한 하이퍼파라미터 최적화\n",
    "def objective(trial):\n",
    "    # 하이퍼파라미터 범위 지정\n",
    "    c = trial.suggest_float('C', 1, 30, log=True)\n",
    "    gamma = trial.suggest_float('gamma', 0.001, 1.0, log=True)\n",
    "    kernel = trial.suggest_categorical('kernel', ['rbf', 'poly'])\n",
    "\n",
    "    # SVM 모델 생성\n",
    "    model = SVC(C=c, gamma=gamma, kernel=kernel)\n",
    "\n",
    "    # 교차 검증을 사용한 모델 평가\n",
    "    score = cross_val_score(model, train_val_pca, train_label_combined, n_jobs=-1 , cv=3) #n_job = -1은 모든 CPU 코어를 사용하여 작업을 병렬로 처리함. -1로 하면 제 노트북에서는 메모리 사용량 초과 되서 실행이 멈춰서 1로 바꾸니깐 잘돌아감\n",
    "    accuracy = score.mean()\n",
    "    return accuracy\n",
    "\n",
    "study = optuna.create_study(direction='maximize')\n",
    "study.optimize(objective, n_trials=50) #안돌아가면 n_trial 값 줄이기\n",
    "\n",
    "# 최적 파라미터 출력\n",
    "print(study.best_params)\n",
    "\n",
    "# 최적 파라미터로 모델 훈련\n",
    "best_params = study.best_params\n",
    "best_svc = SVC(**best_params)\n",
    "best_svc.fit(train_val_pca, train_label_combined)\n",
    "\n",
    "# 정확도 평가\n",
    "train_pred = best_svc.predict(train_val_pca)\n",
    "test_pred = best_svc.predict(test_val_pca)\n",
    "print(\"Train Accuracy:\", accuracy_score(train_label_combined, train_pred))\n",
    "print(\"Test Accuracy:\", accuracy_score(test_label, test_pred))\n",
    "\n",
    "\n",
    "\n"
   ]
  },
  {
   "cell_type": "code",
   "execution_count": 4,
   "id": "3d15b2c7",
   "metadata": {},
   "outputs": [
    {
     "data": {
      "image/png": "[encoded data removed]",
      "text/plain": [
       "<Figure size 900x600 with 2 Axes>"
      ]
     },
     "metadata": {},
     "output_type": "display_data"
    },
    {
     "name": "stdout",
     "output_type": "stream",
     "text": [
      "Predictions for private data saved to private_predictions.txt\n"
     ]
    }
   ],
   "source": [
    "# 혼동 행렬 시각화\n",
    "import matplotlib.pyplot as plt\n",
    "from sklearn.metrics import confusion_matrix\n",
    "import seaborn as sns\n",
    "\n",
    "\n",
    "con_matrix = confusion_matrix(test_label, test_pred)\n",
    "plt.figure(figsize=(9, 6))\n",
    "sns.heatmap(con_matrix, annot=True, cmap='Blues', fmt='g')\n",
    "plt.title(\"Confusion Matrix on SVC with test\")\n",
    "plt.show()\n",
    "\n",
    "# private 데이터 예측 및 결과 저장\n",
    "private_pred = best_svc.predict(private_val_pca)\n",
    "output_file = 'private_predictions.txt'\n",
    "np.savetxt(output_file, private_pred, fmt='%d')\n",
    "print(f\"Predictions for private data saved to {output_file}\")\n"
   ]
  },
  {
   "cell_type": "code",
   "execution_count": null,
   "id": "d82707cd",
   "metadata": {},
   "outputs": [],
   "source": [
    "output_file = 'public_predictions.txt'\n",
    "np.savetxt(output_file, test_pred, fmt='%d')\n",
    "print(f\"Predictions for private data saved to {output_file}\")"
   ]
  }
 ],
 "metadata": {
  "kernelspec": {
   "display_name": "Python 3 (ipykernel)",
   "language": "python",
   "name": "python3"
  },
  "language_info": {
   "codemirror_mode": {
    "name": "ipython",
    "version": 3
   },
   "file_extension": ".py",
   "mimetype": "text/x-python",
   "name": "python",
   "nbconvert_exporter": "python",
   "pygments_lexer": "ipython3",
   "version": "3.7.16"
  }
 },
 "nbformat": 4,
 "nbformat_minor": 5
}
